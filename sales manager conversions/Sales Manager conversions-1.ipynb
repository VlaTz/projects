{
 "cells": [
  {
   "cell_type": "code",
   "execution_count": 53,
   "id": "643a3b2b",
   "metadata": {},
   "outputs": [],
   "source": [
    "import pandas as pd \n",
    "import numpy as np"
   ]
  },
  {
   "cell_type": "code",
   "execution_count": 54,
   "id": "7bde84eb",
   "metadata": {},
   "outputs": [],
   "source": [
    "data = pd.read_csv('C:Downloads/best_salesman_homework.csv')"
   ]
  },
  {
   "cell_type": "markdown",
   "id": "91f7e88c",
   "metadata": {},
   "source": [
    "## EDA"
   ]
  },
  {
   "cell_type": "code",
   "execution_count": 55,
   "id": "07945212",
   "metadata": {},
   "outputs": [
    {
     "data": {
      "text/html": [
       "<div>\n",
       "<style scoped>\n",
       "    .dataframe tbody tr th:only-of-type {\n",
       "        vertical-align: middle;\n",
       "    }\n",
       "\n",
       "    .dataframe tbody tr th {\n",
       "        vertical-align: top;\n",
       "    }\n",
       "\n",
       "    .dataframe thead th {\n",
       "        text-align: right;\n",
       "    }\n",
       "</style>\n",
       "<table border=\"1\" class=\"dataframe\">\n",
       "  <thead>\n",
       "    <tr style=\"text-align: right;\">\n",
       "      <th></th>\n",
       "      <th>client_account_id</th>\n",
       "      <th>date</th>\n",
       "      <th>event_name</th>\n",
       "      <th>manager_id</th>\n",
       "      <th>manager_nickname</th>\n",
       "    </tr>\n",
       "  </thead>\n",
       "  <tbody>\n",
       "    <tr>\n",
       "      <th>0</th>\n",
       "      <td>0</td>\n",
       "      <td>2022-05-09</td>\n",
       "      <td>first_touch</td>\n",
       "      <td>1.0</td>\n",
       "      <td>Justin Beiber</td>\n",
       "    </tr>\n",
       "    <tr>\n",
       "      <th>1</th>\n",
       "      <td>1</td>\n",
       "      <td>2022-03-21</td>\n",
       "      <td>first_touch</td>\n",
       "      <td>3.0</td>\n",
       "      <td>Joe Biden</td>\n",
       "    </tr>\n",
       "    <tr>\n",
       "      <th>2</th>\n",
       "      <td>2</td>\n",
       "      <td>2022-04-18</td>\n",
       "      <td>first_touch</td>\n",
       "      <td>2.0</td>\n",
       "      <td>Kylie Jenner</td>\n",
       "    </tr>\n",
       "    <tr>\n",
       "      <th>3</th>\n",
       "      <td>3</td>\n",
       "      <td>2022-02-07</td>\n",
       "      <td>first_touch</td>\n",
       "      <td>2.0</td>\n",
       "      <td>Kylie Jenner</td>\n",
       "    </tr>\n",
       "    <tr>\n",
       "      <th>4</th>\n",
       "      <td>4</td>\n",
       "      <td>2022-04-08</td>\n",
       "      <td>first_touch</td>\n",
       "      <td>1.0</td>\n",
       "      <td>Justin Beiber</td>\n",
       "    </tr>\n",
       "  </tbody>\n",
       "</table>\n",
       "</div>"
      ],
      "text/plain": [
       "   client_account_id        date   event_name  manager_id manager_nickname\n",
       "0                  0  2022-05-09  first_touch         1.0    Justin Beiber\n",
       "1                  1  2022-03-21  first_touch         3.0        Joe Biden\n",
       "2                  2  2022-04-18  first_touch         2.0     Kylie Jenner\n",
       "3                  3  2022-02-07  first_touch         2.0     Kylie Jenner\n",
       "4                  4  2022-04-08  first_touch         1.0    Justin Beiber"
      ]
     },
     "execution_count": 55,
     "metadata": {},
     "output_type": "execute_result"
    }
   ],
   "source": [
    "data.head()"
   ]
  },
  {
   "cell_type": "code",
   "execution_count": 56,
   "id": "ede0e263",
   "metadata": {},
   "outputs": [
    {
     "name": "stdout",
     "output_type": "stream",
     "text": [
      "<class 'pandas.core.frame.DataFrame'>\n",
      "RangeIndex: 3183 entries, 0 to 3182\n",
      "Data columns (total 5 columns):\n",
      " #   Column             Non-Null Count  Dtype  \n",
      "---  ------             --------------  -----  \n",
      " 0   client_account_id  3183 non-null   int64  \n",
      " 1   date               3183 non-null   object \n",
      " 2   event_name         3183 non-null   object \n",
      " 3   manager_id         3183 non-null   float64\n",
      " 4   manager_nickname   3183 non-null   object \n",
      "dtypes: float64(1), int64(1), object(3)\n",
      "memory usage: 124.5+ KB\n"
     ]
    }
   ],
   "source": [
    "data.info()"
   ]
  },
  {
   "cell_type": "code",
   "execution_count": 57,
   "id": "c9dad686",
   "metadata": {},
   "outputs": [
    {
     "data": {
      "text/html": [
       "<div>\n",
       "<style scoped>\n",
       "    .dataframe tbody tr th:only-of-type {\n",
       "        vertical-align: middle;\n",
       "    }\n",
       "\n",
       "    .dataframe tbody tr th {\n",
       "        vertical-align: top;\n",
       "    }\n",
       "\n",
       "    .dataframe thead th {\n",
       "        text-align: right;\n",
       "    }\n",
       "</style>\n",
       "<table border=\"1\" class=\"dataframe\">\n",
       "  <thead>\n",
       "    <tr style=\"text-align: right;\">\n",
       "      <th></th>\n",
       "      <th>client_account_id</th>\n",
       "      <th>manager_id</th>\n",
       "    </tr>\n",
       "  </thead>\n",
       "  <tbody>\n",
       "    <tr>\n",
       "      <th>count</th>\n",
       "      <td>3183.000000</td>\n",
       "      <td>3183.000000</td>\n",
       "    </tr>\n",
       "    <tr>\n",
       "      <th>mean</th>\n",
       "      <td>1494.974552</td>\n",
       "      <td>2.101162</td>\n",
       "    </tr>\n",
       "    <tr>\n",
       "      <th>std</th>\n",
       "      <td>861.116990</td>\n",
       "      <td>0.820737</td>\n",
       "    </tr>\n",
       "    <tr>\n",
       "      <th>min</th>\n",
       "      <td>0.000000</td>\n",
       "      <td>1.000000</td>\n",
       "    </tr>\n",
       "    <tr>\n",
       "      <th>25%</th>\n",
       "      <td>753.500000</td>\n",
       "      <td>1.000000</td>\n",
       "    </tr>\n",
       "    <tr>\n",
       "      <th>50%</th>\n",
       "      <td>1492.000000</td>\n",
       "      <td>2.000000</td>\n",
       "    </tr>\n",
       "    <tr>\n",
       "      <th>75%</th>\n",
       "      <td>2245.500000</td>\n",
       "      <td>3.000000</td>\n",
       "    </tr>\n",
       "    <tr>\n",
       "      <th>max</th>\n",
       "      <td>2986.000000</td>\n",
       "      <td>3.000000</td>\n",
       "    </tr>\n",
       "  </tbody>\n",
       "</table>\n",
       "</div>"
      ],
      "text/plain": [
       "       client_account_id   manager_id\n",
       "count        3183.000000  3183.000000\n",
       "mean         1494.974552     2.101162\n",
       "std           861.116990     0.820737\n",
       "min             0.000000     1.000000\n",
       "25%           753.500000     1.000000\n",
       "50%          1492.000000     2.000000\n",
       "75%          2245.500000     3.000000\n",
       "max          2986.000000     3.000000"
      ]
     },
     "execution_count": 57,
     "metadata": {},
     "output_type": "execute_result"
    }
   ],
   "source": [
    "data.describe()"
   ]
  },
  {
   "cell_type": "code",
   "execution_count": 58,
   "id": "052e3d56",
   "metadata": {},
   "outputs": [
    {
     "data": {
      "text/plain": [
       "first_touch    2987\n",
       "deal            196\n",
       "Name: event_name, dtype: int64"
      ]
     },
     "execution_count": 58,
     "metadata": {},
     "output_type": "execute_result"
    }
   ],
   "source": [
    "data['event_name'].value_counts()"
   ]
  },
  {
   "cell_type": "code",
   "execution_count": 59,
   "id": "ad1603b9",
   "metadata": {},
   "outputs": [
    {
     "data": {
      "text/plain": [
       "Joe Biden        1249\n",
       "Kylie Jenner     1007\n",
       "Justin Beiber     927\n",
       "Name: manager_nickname, dtype: int64"
      ]
     },
     "execution_count": 59,
     "metadata": {},
     "output_type": "execute_result"
    }
   ],
   "source": [
    "data['manager_nickname'].value_counts()"
   ]
  },
  {
   "cell_type": "code",
   "execution_count": 60,
   "id": "a271d29c",
   "metadata": {},
   "outputs": [
    {
     "data": {
      "text/plain": [
       "3.0    1249\n",
       "2.0    1007\n",
       "1.0     927\n",
       "Name: manager_id, dtype: int64"
      ]
     },
     "execution_count": 60,
     "metadata": {},
     "output_type": "execute_result"
    }
   ],
   "source": [
    "data['manager_id'].value_counts()"
   ]
  },
  {
   "cell_type": "code",
   "execution_count": 61,
   "id": "fdb99b2c",
   "metadata": {},
   "outputs": [
    {
     "data": {
      "text/plain": [
       "0"
      ]
     },
     "execution_count": 61,
     "metadata": {},
     "output_type": "execute_result"
    }
   ],
   "source": [
    "data.duplicated().sum()"
   ]
  },
  {
   "cell_type": "markdown",
   "id": "5236cebc",
   "metadata": {},
   "source": [
    "## Data processing"
   ]
  },
  {
   "cell_type": "code",
   "execution_count": 62,
   "id": "36003b10",
   "metadata": {},
   "outputs": [],
   "source": [
    "data['date']  = pd.to_datetime(data['date'], format='%Y-%m-%d')\n",
    "data['manager_id'] = data['manager_id'].astype('int')"
   ]
  },
  {
   "cell_type": "code",
   "execution_count": 63,
   "id": "63600185",
   "metadata": {},
   "outputs": [],
   "source": [
    "data = data.set_index('date')"
   ]
  },
  {
   "cell_type": "code",
   "execution_count": 64,
   "id": "1fb5bfb7",
   "metadata": {},
   "outputs": [
    {
     "data": {
      "text/plain": [
       "False"
      ]
     },
     "execution_count": 64,
     "metadata": {},
     "output_type": "execute_result"
    }
   ],
   "source": [
    "data.index.is_monotonic"
   ]
  },
  {
   "cell_type": "code",
   "execution_count": 65,
   "id": "3d9a5d60",
   "metadata": {},
   "outputs": [
    {
     "data": {
      "text/plain": [
       "True"
      ]
     },
     "execution_count": 65,
     "metadata": {},
     "output_type": "execute_result"
    }
   ],
   "source": [
    "data.sort_index(inplace=True)\n",
    "data.index.is_monotonic"
   ]
  },
  {
   "cell_type": "code",
   "execution_count": 66,
   "id": "f08505d7",
   "metadata": {},
   "outputs": [
    {
     "data": {
      "text/plain": [
       "3    1249\n",
       "2    1007\n",
       "1     927\n",
       "Name: manager_id, dtype: int64"
      ]
     },
     "execution_count": 66,
     "metadata": {},
     "output_type": "execute_result"
    }
   ],
   "source": [
    "data['manager_id'].value_counts()"
   ]
  },
  {
   "cell_type": "code",
   "execution_count": 67,
   "id": "478ac293",
   "metadata": {},
   "outputs": [],
   "source": [
    "data = data.reset_index()"
   ]
  },
  {
   "cell_type": "code",
   "execution_count": 68,
   "id": "41423a4f",
   "metadata": {},
   "outputs": [
    {
     "data": {
      "text/html": [
       "<div>\n",
       "<style scoped>\n",
       "    .dataframe tbody tr th:only-of-type {\n",
       "        vertical-align: middle;\n",
       "    }\n",
       "\n",
       "    .dataframe tbody tr th {\n",
       "        vertical-align: top;\n",
       "    }\n",
       "\n",
       "    .dataframe thead th {\n",
       "        text-align: right;\n",
       "    }\n",
       "</style>\n",
       "<table border=\"1\" class=\"dataframe\">\n",
       "  <thead>\n",
       "    <tr style=\"text-align: right;\">\n",
       "      <th></th>\n",
       "      <th>date</th>\n",
       "      <th>client_account_id</th>\n",
       "      <th>event_name</th>\n",
       "      <th>manager_id</th>\n",
       "      <th>manager_nickname</th>\n",
       "    </tr>\n",
       "  </thead>\n",
       "  <tbody>\n",
       "    <tr>\n",
       "      <th>0</th>\n",
       "      <td>2021-05-16</td>\n",
       "      <td>1557</td>\n",
       "      <td>first_touch</td>\n",
       "      <td>3</td>\n",
       "      <td>Joe Biden</td>\n",
       "    </tr>\n",
       "    <tr>\n",
       "      <th>1</th>\n",
       "      <td>2021-05-16</td>\n",
       "      <td>659</td>\n",
       "      <td>first_touch</td>\n",
       "      <td>3</td>\n",
       "      <td>Joe Biden</td>\n",
       "    </tr>\n",
       "    <tr>\n",
       "      <th>2</th>\n",
       "      <td>2021-05-16</td>\n",
       "      <td>2560</td>\n",
       "      <td>first_touch</td>\n",
       "      <td>3</td>\n",
       "      <td>Joe Biden</td>\n",
       "    </tr>\n",
       "    <tr>\n",
       "      <th>3</th>\n",
       "      <td>2021-05-16</td>\n",
       "      <td>1567</td>\n",
       "      <td>first_touch</td>\n",
       "      <td>3</td>\n",
       "      <td>Joe Biden</td>\n",
       "    </tr>\n",
       "    <tr>\n",
       "      <th>4</th>\n",
       "      <td>2021-05-17</td>\n",
       "      <td>2982</td>\n",
       "      <td>first_touch</td>\n",
       "      <td>3</td>\n",
       "      <td>Joe Biden</td>\n",
       "    </tr>\n",
       "  </tbody>\n",
       "</table>\n",
       "</div>"
      ],
      "text/plain": [
       "        date  client_account_id   event_name  manager_id manager_nickname\n",
       "0 2021-05-16               1557  first_touch           3        Joe Biden\n",
       "1 2021-05-16                659  first_touch           3        Joe Biden\n",
       "2 2021-05-16               2560  first_touch           3        Joe Biden\n",
       "3 2021-05-16               1567  first_touch           3        Joe Biden\n",
       "4 2021-05-17               2982  first_touch           3        Joe Biden"
      ]
     },
     "execution_count": 68,
     "metadata": {},
     "output_type": "execute_result"
    }
   ],
   "source": [
    "data.head()"
   ]
  },
  {
   "cell_type": "code",
   "execution_count": 69,
   "id": "a34ca5e9",
   "metadata": {},
   "outputs": [],
   "source": [
    "# mng_1_deal = data_mng_1[data_mng_1['event_name']=='deal']\n",
    "# mng_1_touch = data_mng_1[data_mng_1['event_name']=='first_touch']\n",
    "deal_id = list(data[data['event_name']=='deal']['client_account_id'])\n",
    "touch_id = list(data[data['event_name']=='first_touch']['client_account_id'])"
   ]
  },
  {
   "cell_type": "code",
   "execution_count": 70,
   "id": "852bc27f",
   "metadata": {},
   "outputs": [
    {
     "data": {
      "text/plain": [
       "3183"
      ]
     },
     "execution_count": 70,
     "metadata": {},
     "output_type": "execute_result"
    }
   ],
   "source": [
    "len(data) "
   ]
  },
  {
   "cell_type": "code",
   "execution_count": 71,
   "id": "8bc663c6",
   "metadata": {},
   "outputs": [
    {
     "data": {
      "text/html": [
       "<div>\n",
       "<style scoped>\n",
       "    .dataframe tbody tr th:only-of-type {\n",
       "        vertical-align: middle;\n",
       "    }\n",
       "\n",
       "    .dataframe tbody tr th {\n",
       "        vertical-align: top;\n",
       "    }\n",
       "\n",
       "    .dataframe thead th {\n",
       "        text-align: right;\n",
       "    }\n",
       "</style>\n",
       "<table border=\"1\" class=\"dataframe\">\n",
       "  <thead>\n",
       "    <tr style=\"text-align: right;\">\n",
       "      <th></th>\n",
       "      <th>date</th>\n",
       "      <th>client_account_id</th>\n",
       "      <th>event_name</th>\n",
       "      <th>manager_id</th>\n",
       "      <th>manager_nickname</th>\n",
       "      <th>hl</th>\n",
       "    </tr>\n",
       "  </thead>\n",
       "  <tbody>\n",
       "    <tr>\n",
       "      <th>0</th>\n",
       "      <td>2021-05-16</td>\n",
       "      <td>659</td>\n",
       "      <td>first_touch</td>\n",
       "      <td>3</td>\n",
       "      <td>Joe Biden</td>\n",
       "      <td>NaN</td>\n",
       "    </tr>\n",
       "    <tr>\n",
       "      <th>1</th>\n",
       "      <td>2021-05-23</td>\n",
       "      <td>1617</td>\n",
       "      <td>first_touch</td>\n",
       "      <td>3</td>\n",
       "      <td>Joe Biden</td>\n",
       "      <td>NaN</td>\n",
       "    </tr>\n",
       "    <tr>\n",
       "      <th>2</th>\n",
       "      <td>2021-06-01</td>\n",
       "      <td>1358</td>\n",
       "      <td>first_touch</td>\n",
       "      <td>3</td>\n",
       "      <td>Joe Biden</td>\n",
       "      <td>NaN</td>\n",
       "    </tr>\n",
       "    <tr>\n",
       "      <th>3</th>\n",
       "      <td>2021-06-02</td>\n",
       "      <td>1965</td>\n",
       "      <td>first_touch</td>\n",
       "      <td>3</td>\n",
       "      <td>Joe Biden</td>\n",
       "      <td>NaN</td>\n",
       "    </tr>\n",
       "    <tr>\n",
       "      <th>4</th>\n",
       "      <td>2021-06-06</td>\n",
       "      <td>781</td>\n",
       "      <td>first_touch</td>\n",
       "      <td>3</td>\n",
       "      <td>Joe Biden</td>\n",
       "      <td>NaN</td>\n",
       "    </tr>\n",
       "  </tbody>\n",
       "</table>\n",
       "</div>"
      ],
      "text/plain": [
       "        date  client_account_id   event_name  manager_id manager_nickname  hl\n",
       "0 2021-05-16                659  first_touch           3        Joe Biden NaN\n",
       "1 2021-05-23               1617  first_touch           3        Joe Biden NaN\n",
       "2 2021-06-01               1358  first_touch           3        Joe Biden NaN\n",
       "3 2021-06-02               1965  first_touch           3        Joe Biden NaN\n",
       "4 2021-06-06                781  first_touch           3        Joe Biden NaN"
      ]
     },
     "execution_count": 71,
     "metadata": {},
     "output_type": "execute_result"
    }
   ],
   "source": [
    "touch_deal_id =[]\n",
    "for i in deal_id:\n",
    "    if i in touch_id:\n",
    "        touch_deal_id.append(i)\n",
    "a = data[np.isin(data, touch_deal_id).any(axis=1)]\n",
    "a = a.reset_index(drop=True)\n",
    "a[\"hl\"] = np.nan\n",
    "a.head()"
   ]
  },
  {
   "cell_type": "code",
   "execution_count": 72,
   "id": "022a9184",
   "metadata": {},
   "outputs": [],
   "source": [
    "a = a.sort_values(['client_account_id', 'date']).reset_index(drop=True)"
   ]
  },
  {
   "cell_type": "code",
   "execution_count": 73,
   "id": "b8a9e897",
   "metadata": {},
   "outputs": [
    {
     "data": {
      "text/html": [
       "<div>\n",
       "<style scoped>\n",
       "    .dataframe tbody tr th:only-of-type {\n",
       "        vertical-align: middle;\n",
       "    }\n",
       "\n",
       "    .dataframe tbody tr th {\n",
       "        vertical-align: top;\n",
       "    }\n",
       "\n",
       "    .dataframe thead th {\n",
       "        text-align: right;\n",
       "    }\n",
       "</style>\n",
       "<table border=\"1\" class=\"dataframe\">\n",
       "  <thead>\n",
       "    <tr style=\"text-align: right;\">\n",
       "      <th></th>\n",
       "      <th>date</th>\n",
       "      <th>client_account_id</th>\n",
       "      <th>event_name</th>\n",
       "      <th>manager_id</th>\n",
       "      <th>manager_nickname</th>\n",
       "      <th>hl</th>\n",
       "    </tr>\n",
       "  </thead>\n",
       "  <tbody>\n",
       "    <tr>\n",
       "      <th>0</th>\n",
       "      <td>2022-02-24</td>\n",
       "      <td>40</td>\n",
       "      <td>deal</td>\n",
       "      <td>3</td>\n",
       "      <td>Joe Biden</td>\n",
       "      <td>NaN</td>\n",
       "    </tr>\n",
       "    <tr>\n",
       "      <th>1</th>\n",
       "      <td>2022-05-02</td>\n",
       "      <td>40</td>\n",
       "      <td>first_touch</td>\n",
       "      <td>1</td>\n",
       "      <td>Justin Beiber</td>\n",
       "      <td>NaN</td>\n",
       "    </tr>\n",
       "    <tr>\n",
       "      <th>2</th>\n",
       "      <td>2022-02-03</td>\n",
       "      <td>63</td>\n",
       "      <td>first_touch</td>\n",
       "      <td>1</td>\n",
       "      <td>Justin Beiber</td>\n",
       "      <td>NaN</td>\n",
       "    </tr>\n",
       "    <tr>\n",
       "      <th>3</th>\n",
       "      <td>2022-03-14</td>\n",
       "      <td>63</td>\n",
       "      <td>deal</td>\n",
       "      <td>2</td>\n",
       "      <td>Kylie Jenner</td>\n",
       "      <td>NaN</td>\n",
       "    </tr>\n",
       "    <tr>\n",
       "      <th>4</th>\n",
       "      <td>2021-12-17</td>\n",
       "      <td>86</td>\n",
       "      <td>first_touch</td>\n",
       "      <td>3</td>\n",
       "      <td>Joe Biden</td>\n",
       "      <td>NaN</td>\n",
       "    </tr>\n",
       "  </tbody>\n",
       "</table>\n",
       "</div>"
      ],
      "text/plain": [
       "        date  client_account_id   event_name  manager_id manager_nickname  hl\n",
       "0 2022-02-24                 40         deal           3        Joe Biden NaN\n",
       "1 2022-05-02                 40  first_touch           1    Justin Beiber NaN\n",
       "2 2022-02-03                 63  first_touch           1    Justin Beiber NaN\n",
       "3 2022-03-14                 63         deal           2     Kylie Jenner NaN\n",
       "4 2021-12-17                 86  first_touch           3        Joe Biden NaN"
      ]
     },
     "execution_count": 73,
     "metadata": {},
     "output_type": "execute_result"
    }
   ],
   "source": [
    "a.head()"
   ]
  },
  {
   "cell_type": "code",
   "execution_count": 74,
   "id": "42253fd9",
   "metadata": {},
   "outputs": [],
   "source": [
    "a_ft = a[a['event_name']=='first_touch']\n",
    "a_dl = a[a['event_name']=='deal']"
   ]
  },
  {
   "cell_type": "code",
   "execution_count": 75,
   "id": "78126db2",
   "metadata": {},
   "outputs": [],
   "source": [
    "a_dl = a_dl.reset_index(drop=True) "
   ]
  },
  {
   "cell_type": "code",
   "execution_count": 76,
   "id": "e5dbbd0e",
   "metadata": {},
   "outputs": [],
   "source": [
    "a_ft = a_ft.reset_index(drop=True) "
   ]
  },
  {
   "cell_type": "code",
   "execution_count": 77,
   "id": "1d35b8e1",
   "metadata": {},
   "outputs": [],
   "source": [
    "data_new = pd.DataFrame(columns=a_ft.columns)"
   ]
  },
  {
   "cell_type": "code",
   "execution_count": 103,
   "id": "0f04e796",
   "metadata": {},
   "outputs": [],
   "source": [
    "for i in range(len(a_dl)):\n",
    "    data_new=data_new.append(a_ft.loc[i])\n",
    "    data_new=data_new.append(a_dl.loc[i])"
   ]
  },
  {
   "cell_type": "code",
   "execution_count": 79,
   "id": "98cf3544",
   "metadata": {},
   "outputs": [],
   "source": [
    "data_new = data_new.reset_index(drop=True)"
   ]
  },
  {
   "cell_type": "code",
   "execution_count": 80,
   "id": "09d179a8",
   "metadata": {},
   "outputs": [
    {
     "name": "stderr",
     "output_type": "stream",
     "text": [
      "C:\\Users\\Admin\\AppData\\Local\\Temp\\ipykernel_6764\\2000018525.py:1: FutureWarning: The frame.append method is deprecated and will be removed from pandas in a future version. Use pandas.concat instead.\n",
      "  data_new.append(a_ft.loc[0]).head()\n"
     ]
    },
    {
     "data": {
      "text/html": [
       "<div>\n",
       "<style scoped>\n",
       "    .dataframe tbody tr th:only-of-type {\n",
       "        vertical-align: middle;\n",
       "    }\n",
       "\n",
       "    .dataframe tbody tr th {\n",
       "        vertical-align: top;\n",
       "    }\n",
       "\n",
       "    .dataframe thead th {\n",
       "        text-align: right;\n",
       "    }\n",
       "</style>\n",
       "<table border=\"1\" class=\"dataframe\">\n",
       "  <thead>\n",
       "    <tr style=\"text-align: right;\">\n",
       "      <th></th>\n",
       "      <th>date</th>\n",
       "      <th>client_account_id</th>\n",
       "      <th>event_name</th>\n",
       "      <th>manager_id</th>\n",
       "      <th>manager_nickname</th>\n",
       "      <th>hl</th>\n",
       "    </tr>\n",
       "  </thead>\n",
       "  <tbody>\n",
       "    <tr>\n",
       "      <th>0</th>\n",
       "      <td>2022-05-02 00:00:00</td>\n",
       "      <td>40</td>\n",
       "      <td>first_touch</td>\n",
       "      <td>1</td>\n",
       "      <td>Justin Beiber</td>\n",
       "      <td>NaN</td>\n",
       "    </tr>\n",
       "    <tr>\n",
       "      <th>1</th>\n",
       "      <td>2022-02-24 00:00:00</td>\n",
       "      <td>40</td>\n",
       "      <td>deal</td>\n",
       "      <td>3</td>\n",
       "      <td>Joe Biden</td>\n",
       "      <td>NaN</td>\n",
       "    </tr>\n",
       "    <tr>\n",
       "      <th>2</th>\n",
       "      <td>2022-02-03 00:00:00</td>\n",
       "      <td>63</td>\n",
       "      <td>first_touch</td>\n",
       "      <td>1</td>\n",
       "      <td>Justin Beiber</td>\n",
       "      <td>NaN</td>\n",
       "    </tr>\n",
       "    <tr>\n",
       "      <th>3</th>\n",
       "      <td>2022-03-14 00:00:00</td>\n",
       "      <td>63</td>\n",
       "      <td>deal</td>\n",
       "      <td>2</td>\n",
       "      <td>Kylie Jenner</td>\n",
       "      <td>NaN</td>\n",
       "    </tr>\n",
       "    <tr>\n",
       "      <th>4</th>\n",
       "      <td>2021-12-17 00:00:00</td>\n",
       "      <td>86</td>\n",
       "      <td>first_touch</td>\n",
       "      <td>3</td>\n",
       "      <td>Joe Biden</td>\n",
       "      <td>NaN</td>\n",
       "    </tr>\n",
       "  </tbody>\n",
       "</table>\n",
       "</div>"
      ],
      "text/plain": [
       "                  date client_account_id   event_name manager_id  \\\n",
       "0  2022-05-02 00:00:00                40  first_touch          1   \n",
       "1  2022-02-24 00:00:00                40         deal          3   \n",
       "2  2022-02-03 00:00:00                63  first_touch          1   \n",
       "3  2022-03-14 00:00:00                63         deal          2   \n",
       "4  2021-12-17 00:00:00                86  first_touch          3   \n",
       "\n",
       "  manager_nickname   hl  \n",
       "0    Justin Beiber  NaN  \n",
       "1        Joe Biden  NaN  \n",
       "2    Justin Beiber  NaN  \n",
       "3     Kylie Jenner  NaN  \n",
       "4        Joe Biden  NaN  "
      ]
     },
     "execution_count": 80,
     "metadata": {},
     "output_type": "execute_result"
    }
   ],
   "source": [
    "data_new.append(a_ft.loc[0]).head()"
   ]
  },
  {
   "cell_type": "code",
   "execution_count": 81,
   "id": "b0d1f281",
   "metadata": {},
   "outputs": [
    {
     "data": {
      "text/plain": [
       "'first_touch'"
      ]
     },
     "execution_count": 81,
     "metadata": {},
     "output_type": "execute_result"
    }
   ],
   "source": [
    "data_new['event_name'][0]"
   ]
  },
  {
   "cell_type": "code",
   "execution_count": 82,
   "id": "9a845167",
   "metadata": {},
   "outputs": [],
   "source": [
    "for i in range(len(data_new)):\n",
    "    if data_new['event_name'][i]=='deal':\n",
    "        data_new['hl'][i] = data_new['date'][i]-data_new['date'][i-1]"
   ]
  },
  {
   "cell_type": "code",
   "execution_count": 83,
   "id": "ab34261f",
   "metadata": {},
   "outputs": [
    {
     "data": {
      "text/html": [
       "<div>\n",
       "<style scoped>\n",
       "    .dataframe tbody tr th:only-of-type {\n",
       "        vertical-align: middle;\n",
       "    }\n",
       "\n",
       "    .dataframe tbody tr th {\n",
       "        vertical-align: top;\n",
       "    }\n",
       "\n",
       "    .dataframe thead th {\n",
       "        text-align: right;\n",
       "    }\n",
       "</style>\n",
       "<table border=\"1\" class=\"dataframe\">\n",
       "  <thead>\n",
       "    <tr style=\"text-align: right;\">\n",
       "      <th></th>\n",
       "      <th>date</th>\n",
       "      <th>client_account_id</th>\n",
       "      <th>event_name</th>\n",
       "      <th>manager_id</th>\n",
       "      <th>manager_nickname</th>\n",
       "      <th>hl</th>\n",
       "    </tr>\n",
       "  </thead>\n",
       "  <tbody>\n",
       "    <tr>\n",
       "      <th>0</th>\n",
       "      <td>2022-05-02 00:00:00</td>\n",
       "      <td>40</td>\n",
       "      <td>first_touch</td>\n",
       "      <td>1</td>\n",
       "      <td>Justin Beiber</td>\n",
       "      <td>NaN</td>\n",
       "    </tr>\n",
       "    <tr>\n",
       "      <th>1</th>\n",
       "      <td>2022-02-24 00:00:00</td>\n",
       "      <td>40</td>\n",
       "      <td>deal</td>\n",
       "      <td>3</td>\n",
       "      <td>Joe Biden</td>\n",
       "      <td>-67 days +00:00:00</td>\n",
       "    </tr>\n",
       "    <tr>\n",
       "      <th>2</th>\n",
       "      <td>2022-02-03 00:00:00</td>\n",
       "      <td>63</td>\n",
       "      <td>first_touch</td>\n",
       "      <td>1</td>\n",
       "      <td>Justin Beiber</td>\n",
       "      <td>NaN</td>\n",
       "    </tr>\n",
       "    <tr>\n",
       "      <th>3</th>\n",
       "      <td>2022-03-14 00:00:00</td>\n",
       "      <td>63</td>\n",
       "      <td>deal</td>\n",
       "      <td>2</td>\n",
       "      <td>Kylie Jenner</td>\n",
       "      <td>39 days 00:00:00</td>\n",
       "    </tr>\n",
       "    <tr>\n",
       "      <th>4</th>\n",
       "      <td>2021-12-17 00:00:00</td>\n",
       "      <td>86</td>\n",
       "      <td>first_touch</td>\n",
       "      <td>3</td>\n",
       "      <td>Joe Biden</td>\n",
       "      <td>NaN</td>\n",
       "    </tr>\n",
       "  </tbody>\n",
       "</table>\n",
       "</div>"
      ],
      "text/plain": [
       "                  date client_account_id   event_name manager_id  \\\n",
       "0  2022-05-02 00:00:00                40  first_touch          1   \n",
       "1  2022-02-24 00:00:00                40         deal          3   \n",
       "2  2022-02-03 00:00:00                63  first_touch          1   \n",
       "3  2022-03-14 00:00:00                63         deal          2   \n",
       "4  2021-12-17 00:00:00                86  first_touch          3   \n",
       "\n",
       "  manager_nickname                  hl  \n",
       "0    Justin Beiber                 NaN  \n",
       "1        Joe Biden  -67 days +00:00:00  \n",
       "2    Justin Beiber                 NaN  \n",
       "3     Kylie Jenner    39 days 00:00:00  \n",
       "4        Joe Biden                 NaN  "
      ]
     },
     "execution_count": 83,
     "metadata": {},
     "output_type": "execute_result"
    }
   ],
   "source": [
    "data_new.head()"
   ]
  },
  {
   "cell_type": "code",
   "execution_count": 84,
   "id": "32328d7f",
   "metadata": {},
   "outputs": [],
   "source": [
    "a = data_new.dropna()"
   ]
  },
  {
   "cell_type": "code",
   "execution_count": 85,
   "id": "0a413927",
   "metadata": {},
   "outputs": [
    {
     "name": "stderr",
     "output_type": "stream",
     "text": [
      "C:\\Users\\Admin\\AppData\\Local\\Temp\\ipykernel_6764\\201143033.py:1: SettingWithCopyWarning: \n",
      "A value is trying to be set on a copy of a slice from a DataFrame.\n",
      "Try using .loc[row_indexer,col_indexer] = value instead\n",
      "\n",
      "See the caveats in the documentation: https://pandas.pydata.org/pandas-docs/stable/user_guide/indexing.html#returning-a-view-versus-a-copy\n",
      "  a['hl'] = a['hl'].astype('str')\n",
      "C:\\Users\\Admin\\AppData\\Local\\Temp\\ipykernel_6764\\201143033.py:2: SettingWithCopyWarning: \n",
      "A value is trying to be set on a copy of a slice from a DataFrame.\n",
      "Try using .loc[row_indexer,col_indexer] = value instead\n",
      "\n",
      "See the caveats in the documentation: https://pandas.pydata.org/pandas-docs/stable/user_guide/indexing.html#returning-a-view-versus-a-copy\n",
      "  a['hl'] = a['hl'].apply(lambda x: int(x.split()[0]))\n"
     ]
    }
   ],
   "source": [
    "a['hl'] = a['hl'].astype('str')\n",
    "a['hl'] = a['hl'].apply(lambda x: int(x.split()[0]))"
   ]
  },
  {
   "cell_type": "code",
   "execution_count": 86,
   "id": "c625ee5c",
   "metadata": {},
   "outputs": [
    {
     "data": {
      "text/plain": [
       "<AxesSubplot:>"
      ]
     },
     "execution_count": 86,
     "metadata": {},
     "output_type": "execute_result"
    },
    {
     "data": {
      "image/png": "[encoded data removed]",
      "text/plain": [
       "<Figure size 432x288 with 1 Axes>"
      ]
     },
     "metadata": {
      "needs_background": "light"
     },
     "output_type": "display_data"
    }
   ],
   "source": [
    "a['hl'].hist()"
   ]
  },
  {
   "cell_type": "code",
   "execution_count": 87,
   "id": "65249a10",
   "metadata": {},
   "outputs": [],
   "source": [
    "#a = a[a['hl']>0]"
   ]
  },
  {
   "cell_type": "code",
   "execution_count": 88,
   "id": "2260657d",
   "metadata": {},
   "outputs": [
    {
     "data": {
      "text/html": [
       "<div>\n",
       "<style scoped>\n",
       "    .dataframe tbody tr th:only-of-type {\n",
       "        vertical-align: middle;\n",
       "    }\n",
       "\n",
       "    .dataframe tbody tr th {\n",
       "        vertical-align: top;\n",
       "    }\n",
       "\n",
       "    .dataframe thead th {\n",
       "        text-align: right;\n",
       "    }\n",
       "</style>\n",
       "<table border=\"1\" class=\"dataframe\">\n",
       "  <thead>\n",
       "    <tr style=\"text-align: right;\">\n",
       "      <th></th>\n",
       "      <th>date</th>\n",
       "      <th>client_account_id</th>\n",
       "      <th>event_name</th>\n",
       "      <th>manager_id</th>\n",
       "      <th>manager_nickname</th>\n",
       "      <th>hl</th>\n",
       "    </tr>\n",
       "  </thead>\n",
       "  <tbody>\n",
       "    <tr>\n",
       "      <th>1</th>\n",
       "      <td>2022-02-24 00:00:00</td>\n",
       "      <td>40</td>\n",
       "      <td>deal</td>\n",
       "      <td>3</td>\n",
       "      <td>Joe Biden</td>\n",
       "      <td>-67</td>\n",
       "    </tr>\n",
       "    <tr>\n",
       "      <th>3</th>\n",
       "      <td>2022-03-14 00:00:00</td>\n",
       "      <td>63</td>\n",
       "      <td>deal</td>\n",
       "      <td>2</td>\n",
       "      <td>Kylie Jenner</td>\n",
       "      <td>39</td>\n",
       "    </tr>\n",
       "    <tr>\n",
       "      <th>5</th>\n",
       "      <td>2022-05-24 00:00:00</td>\n",
       "      <td>86</td>\n",
       "      <td>deal</td>\n",
       "      <td>1</td>\n",
       "      <td>Justin Beiber</td>\n",
       "      <td>158</td>\n",
       "    </tr>\n",
       "    <tr>\n",
       "      <th>7</th>\n",
       "      <td>2022-05-23 00:00:00</td>\n",
       "      <td>87</td>\n",
       "      <td>deal</td>\n",
       "      <td>2</td>\n",
       "      <td>Kylie Jenner</td>\n",
       "      <td>-7</td>\n",
       "    </tr>\n",
       "    <tr>\n",
       "      <th>9</th>\n",
       "      <td>2021-08-30 00:00:00</td>\n",
       "      <td>127</td>\n",
       "      <td>deal</td>\n",
       "      <td>3</td>\n",
       "      <td>Joe Biden</td>\n",
       "      <td>-265</td>\n",
       "    </tr>\n",
       "  </tbody>\n",
       "</table>\n",
       "</div>"
      ],
      "text/plain": [
       "                  date client_account_id event_name manager_id  \\\n",
       "1  2022-02-24 00:00:00                40       deal          3   \n",
       "3  2022-03-14 00:00:00                63       deal          2   \n",
       "5  2022-05-24 00:00:00                86       deal          1   \n",
       "7  2022-05-23 00:00:00                87       deal          2   \n",
       "9  2021-08-30 00:00:00               127       deal          3   \n",
       "\n",
       "  manager_nickname   hl  \n",
       "1        Joe Biden  -67  \n",
       "3     Kylie Jenner   39  \n",
       "5    Justin Beiber  158  \n",
       "7     Kylie Jenner   -7  \n",
       "9        Joe Biden -265  "
      ]
     },
     "execution_count": 88,
     "metadata": {},
     "output_type": "execute_result"
    }
   ],
   "source": [
    "a.head()"
   ]
  },
  {
   "cell_type": "code",
   "execution_count": 89,
   "id": "545eac3a",
   "metadata": {},
   "outputs": [
    {
     "data": {
      "text/plain": [
       "109.46938775510205"
      ]
     },
     "execution_count": 89,
     "metadata": {},
     "output_type": "execute_result"
    }
   ],
   "source": [
    "a['hl'].abs().mean() "
   ]
  },
  {
   "cell_type": "code",
   "execution_count": 90,
   "id": "05229f60",
   "metadata": {},
   "outputs": [],
   "source": [
    "from datetime import datetime, timedelta\n",
    "d = data['date'][-1:] - timedelta(days=round(a['hl'].abs().mean()))"
   ]
  },
  {
   "cell_type": "code",
   "execution_count": 91,
   "id": "c2085ab0",
   "metadata": {},
   "outputs": [
    {
     "data": {
      "text/plain": [
       "3182   2022-02-14\n",
       "Name: date, dtype: datetime64[ns]"
      ]
     },
     "execution_count": 91,
     "metadata": {},
     "output_type": "execute_result"
    }
   ],
   "source": [
    "d"
   ]
  },
  {
   "cell_type": "code",
   "execution_count": 92,
   "id": "18de4e52",
   "metadata": {},
   "outputs": [],
   "source": [
    "deal = data[data['event_name']!='first_touch']"
   ]
  },
  {
   "cell_type": "code",
   "execution_count": 93,
   "id": "e7e10183",
   "metadata": {},
   "outputs": [],
   "source": [
    "deal = deal[deal['date']>=d[3182]]"
   ]
  },
  {
   "cell_type": "code",
   "execution_count": 94,
   "id": "01ab86e5",
   "metadata": {},
   "outputs": [
    {
     "data": {
      "text/html": [
       "<div>\n",
       "<style scoped>\n",
       "    .dataframe tbody tr th:only-of-type {\n",
       "        vertical-align: middle;\n",
       "    }\n",
       "\n",
       "    .dataframe tbody tr th {\n",
       "        vertical-align: top;\n",
       "    }\n",
       "\n",
       "    .dataframe thead th {\n",
       "        text-align: right;\n",
       "    }\n",
       "</style>\n",
       "<table border=\"1\" class=\"dataframe\">\n",
       "  <thead>\n",
       "    <tr style=\"text-align: right;\">\n",
       "      <th></th>\n",
       "      <th>date</th>\n",
       "      <th>client_account_id</th>\n",
       "      <th>event_name</th>\n",
       "      <th>manager_id</th>\n",
       "      <th>manager_nickname</th>\n",
       "    </tr>\n",
       "  </thead>\n",
       "  <tbody>\n",
       "    <tr>\n",
       "      <th>1735</th>\n",
       "      <td>2022-02-18</td>\n",
       "      <td>2603</td>\n",
       "      <td>deal</td>\n",
       "      <td>3</td>\n",
       "      <td>Joe Biden</td>\n",
       "    </tr>\n",
       "    <tr>\n",
       "      <th>1737</th>\n",
       "      <td>2022-02-18</td>\n",
       "      <td>2237</td>\n",
       "      <td>deal</td>\n",
       "      <td>2</td>\n",
       "      <td>Kylie Jenner</td>\n",
       "    </tr>\n",
       "    <tr>\n",
       "      <th>1788</th>\n",
       "      <td>2022-02-22</td>\n",
       "      <td>145</td>\n",
       "      <td>deal</td>\n",
       "      <td>3</td>\n",
       "      <td>Joe Biden</td>\n",
       "    </tr>\n",
       "    <tr>\n",
       "      <th>1793</th>\n",
       "      <td>2022-02-23</td>\n",
       "      <td>1329</td>\n",
       "      <td>deal</td>\n",
       "      <td>3</td>\n",
       "      <td>Joe Biden</td>\n",
       "    </tr>\n",
       "    <tr>\n",
       "      <th>1811</th>\n",
       "      <td>2022-02-24</td>\n",
       "      <td>1044</td>\n",
       "      <td>deal</td>\n",
       "      <td>2</td>\n",
       "      <td>Kylie Jenner</td>\n",
       "    </tr>\n",
       "  </tbody>\n",
       "</table>\n",
       "</div>"
      ],
      "text/plain": [
       "           date  client_account_id event_name  manager_id manager_nickname\n",
       "1735 2022-02-18               2603       deal           3        Joe Biden\n",
       "1737 2022-02-18               2237       deal           2     Kylie Jenner\n",
       "1788 2022-02-22                145       deal           3        Joe Biden\n",
       "1793 2022-02-23               1329       deal           3        Joe Biden\n",
       "1811 2022-02-24               1044       deal           2     Kylie Jenner"
      ]
     },
     "execution_count": 94,
     "metadata": {},
     "output_type": "execute_result"
    }
   ],
   "source": [
    "deal.head() "
   ]
  },
  {
   "cell_type": "code",
   "execution_count": 95,
   "id": "45736312",
   "metadata": {},
   "outputs": [],
   "source": [
    "data_new = data_new[data_new['date']<d[3182]]"
   ]
  },
  {
   "cell_type": "code",
   "execution_count": 96,
   "id": "a220f8d4",
   "metadata": {},
   "outputs": [],
   "source": [
    "frames = [data_new, deal]\n",
    "\n",
    "result = pd.concat(frames)"
   ]
  },
  {
   "cell_type": "code",
   "execution_count": 97,
   "id": "fe199a54",
   "metadata": {},
   "outputs": [
    {
     "data": {
      "text/html": [
       "<div>\n",
       "<style scoped>\n",
       "    .dataframe tbody tr th:only-of-type {\n",
       "        vertical-align: middle;\n",
       "    }\n",
       "\n",
       "    .dataframe tbody tr th {\n",
       "        vertical-align: top;\n",
       "    }\n",
       "\n",
       "    .dataframe thead th {\n",
       "        text-align: right;\n",
       "    }\n",
       "</style>\n",
       "<table border=\"1\" class=\"dataframe\">\n",
       "  <thead>\n",
       "    <tr style=\"text-align: right;\">\n",
       "      <th></th>\n",
       "      <th>date</th>\n",
       "      <th>client_account_id</th>\n",
       "      <th>event_name</th>\n",
       "      <th>manager_id</th>\n",
       "      <th>manager_nickname</th>\n",
       "      <th>hl</th>\n",
       "    </tr>\n",
       "  </thead>\n",
       "  <tbody>\n",
       "    <tr>\n",
       "      <th>2</th>\n",
       "      <td>2022-02-03 00:00:00</td>\n",
       "      <td>63</td>\n",
       "      <td>first_touch</td>\n",
       "      <td>1</td>\n",
       "      <td>Justin Beiber</td>\n",
       "      <td>NaN</td>\n",
       "    </tr>\n",
       "    <tr>\n",
       "      <th>4</th>\n",
       "      <td>2021-12-17 00:00:00</td>\n",
       "      <td>86</td>\n",
       "      <td>first_touch</td>\n",
       "      <td>3</td>\n",
       "      <td>Joe Biden</td>\n",
       "      <td>NaN</td>\n",
       "    </tr>\n",
       "    <tr>\n",
       "      <th>9</th>\n",
       "      <td>2021-08-30 00:00:00</td>\n",
       "      <td>127</td>\n",
       "      <td>deal</td>\n",
       "      <td>3</td>\n",
       "      <td>Joe Biden</td>\n",
       "      <td>-265 days +00:00:00</td>\n",
       "    </tr>\n",
       "    <tr>\n",
       "      <th>11</th>\n",
       "      <td>2022-02-10 00:00:00</td>\n",
       "      <td>134</td>\n",
       "      <td>deal</td>\n",
       "      <td>3</td>\n",
       "      <td>Joe Biden</td>\n",
       "      <td>-58 days +00:00:00</td>\n",
       "    </tr>\n",
       "    <tr>\n",
       "      <th>12</th>\n",
       "      <td>2021-10-29 00:00:00</td>\n",
       "      <td>135</td>\n",
       "      <td>first_touch</td>\n",
       "      <td>3</td>\n",
       "      <td>Joe Biden</td>\n",
       "      <td>NaN</td>\n",
       "    </tr>\n",
       "  </tbody>\n",
       "</table>\n",
       "</div>"
      ],
      "text/plain": [
       "                   date client_account_id   event_name manager_id  \\\n",
       "2   2022-02-03 00:00:00                63  first_touch          1   \n",
       "4   2021-12-17 00:00:00                86  first_touch          3   \n",
       "9   2021-08-30 00:00:00               127         deal          3   \n",
       "11  2022-02-10 00:00:00               134         deal          3   \n",
       "12  2021-10-29 00:00:00               135  first_touch          3   \n",
       "\n",
       "   manager_nickname                   hl  \n",
       "2     Justin Beiber                  NaN  \n",
       "4         Joe Biden                  NaN  \n",
       "9         Joe Biden  -265 days +00:00:00  \n",
       "11        Joe Biden   -58 days +00:00:00  \n",
       "12        Joe Biden                  NaN  "
      ]
     },
     "execution_count": 97,
     "metadata": {},
     "output_type": "execute_result"
    }
   ],
   "source": [
    "result.head()"
   ]
  },
  {
   "cell_type": "code",
   "execution_count": 98,
   "id": "4fa7566b",
   "metadata": {},
   "outputs": [],
   "source": [
    "result = result.sort_values('client_account_id').reset_index(drop=True)"
   ]
  },
  {
   "cell_type": "code",
   "execution_count": 99,
   "id": "efa8def6",
   "metadata": {},
   "outputs": [],
   "source": [
    "def conversion(result, mng_id):\n",
    "    mng_1_data = result[result['manager_id']==mng_id]\n",
    "    mng_1_deal_id = list(mng_1_data[mng_1_data['event_name']=='deal']['client_account_id'])\n",
    "    mng_1_touch_id = list(mng_1_data[mng_1_data['event_name']=='first_touch']['client_account_id'])\n",
    "    mng_1_touch_deal_id =[]\n",
    "    for i in mng_1_deal_id:\n",
    "        if i in mng_1_touch_id:\n",
    "            mng_1_touch_deal_id.append(i)\n",
    "    import numpy as np\n",
    "    a = data[np.isin(data, mng_1_touch_deal_id).any(axis=1)]\n",
    "    a = a.reset_index(drop=True)\n",
    "    return len(mng_1_touch_deal_id)/len(mng_1_data)*100, a['manager_nickname'][0]"
   ]
  },
  {
   "cell_type": "code",
   "execution_count": 100,
   "id": "ee3acc79",
   "metadata": {},
   "outputs": [
    {
     "data": {
      "text/plain": [
       "(2.2222222222222223, 'Justin Beiber')"
      ]
     },
     "execution_count": 100,
     "metadata": {},
     "output_type": "execute_result"
    }
   ],
   "source": [
    "conversion(result, 1)"
   ]
  },
  {
   "cell_type": "code",
   "execution_count": 101,
   "id": "c3b4a48a",
   "metadata": {},
   "outputs": [
    {
     "data": {
      "text/plain": [
       "(10.679611650485436, 'Kylie Jenner')"
      ]
     },
     "execution_count": 101,
     "metadata": {},
     "output_type": "execute_result"
    }
   ],
   "source": [
    "conversion(result, 2)"
   ]
  },
  {
   "cell_type": "code",
   "execution_count": 102,
   "id": "2b69bcbc",
   "metadata": {},
   "outputs": [
    {
     "data": {
      "text/plain": [
       "(17.763157894736842, 'Joe Biden')"
      ]
     },
     "execution_count": 102,
     "metadata": {},
     "output_type": "execute_result"
    }
   ],
   "source": [
    "conversion(result, 3)"
   ]
  }
 ],
 "metadata": {
  "kernelspec": {
   "display_name": "Python 3 (ipykernel)",
   "language": "python",
   "name": "python3"
  },
  "language_info": {
   "codemirror_mode": {
    "name": "ipython",
    "version": 3
   },
   "file_extension": ".py",
   "mimetype": "text/x-python",
   "name": "python",
   "nbconvert_exporter": "python",
   "pygments_lexer": "ipython3",
   "version": "3.9.12"
  },
  "toc": {
   "base_numbering": 1,
   "nav_menu": {},
   "number_sections": true,
   "sideBar": true,
   "skip_h1_title": false,
   "title_cell": "Table of Contents",
   "title_sidebar": "Contents",
   "toc_cell": false,
   "toc_position": {},
   "toc_section_display": true,
   "toc_window_display": false
  }
 },
 "nbformat": 4,
 "nbformat_minor": 5
}
