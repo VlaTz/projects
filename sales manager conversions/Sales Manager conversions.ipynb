{
 "cells": [
  {
   "cell_type": "code",
   "execution_count": 470,
   "id": "643a3b2b",
   "metadata": {},
   "outputs": [],
   "source": [
    "import pandas as pd "
   ]
  },
  {
   "cell_type": "code",
   "execution_count": 471,
   "id": "7bde84eb",
   "metadata": {},
   "outputs": [],
   "source": [
    "data = pd.read_csv('C:Downloads/best_salesman_homework.csv')"
   ]
  },
  {
   "cell_type": "markdown",
   "id": "91f7e88c",
   "metadata": {},
   "source": [
    "## EDA"
   ]
  },
  {
   "cell_type": "code",
   "execution_count": 472,
   "id": "07945212",
   "metadata": {},
   "outputs": [
    {
     "data": {
      "text/html": [
       "<div>\n",
       "<style scoped>\n",
       "    .dataframe tbody tr th:only-of-type {\n",
       "        vertical-align: middle;\n",
       "    }\n",
       "\n",
       "    .dataframe tbody tr th {\n",
       "        vertical-align: top;\n",
       "    }\n",
       "\n",
       "    .dataframe thead th {\n",
       "        text-align: right;\n",
       "    }\n",
       "</style>\n",
       "<table border=\"1\" class=\"dataframe\">\n",
       "  <thead>\n",
       "    <tr style=\"text-align: right;\">\n",
       "      <th></th>\n",
       "      <th>client_account_id</th>\n",
       "      <th>date</th>\n",
       "      <th>event_name</th>\n",
       "      <th>manager_id</th>\n",
       "      <th>manager_nickname</th>\n",
       "    </tr>\n",
       "  </thead>\n",
       "  <tbody>\n",
       "    <tr>\n",
       "      <th>0</th>\n",
       "      <td>0</td>\n",
       "      <td>2022-05-09</td>\n",
       "      <td>first_touch</td>\n",
       "      <td>1.0</td>\n",
       "      <td>Justin Beiber</td>\n",
       "    </tr>\n",
       "    <tr>\n",
       "      <th>1</th>\n",
       "      <td>1</td>\n",
       "      <td>2022-03-21</td>\n",
       "      <td>first_touch</td>\n",
       "      <td>3.0</td>\n",
       "      <td>Joe Biden</td>\n",
       "    </tr>\n",
       "    <tr>\n",
       "      <th>2</th>\n",
       "      <td>2</td>\n",
       "      <td>2022-04-18</td>\n",
       "      <td>first_touch</td>\n",
       "      <td>2.0</td>\n",
       "      <td>Kylie Jenner</td>\n",
       "    </tr>\n",
       "    <tr>\n",
       "      <th>3</th>\n",
       "      <td>3</td>\n",
       "      <td>2022-02-07</td>\n",
       "      <td>first_touch</td>\n",
       "      <td>2.0</td>\n",
       "      <td>Kylie Jenner</td>\n",
       "    </tr>\n",
       "    <tr>\n",
       "      <th>4</th>\n",
       "      <td>4</td>\n",
       "      <td>2022-04-08</td>\n",
       "      <td>first_touch</td>\n",
       "      <td>1.0</td>\n",
       "      <td>Justin Beiber</td>\n",
       "    </tr>\n",
       "  </tbody>\n",
       "</table>\n",
       "</div>"
      ],
      "text/plain": [
       "   client_account_id        date   event_name  manager_id manager_nickname\n",
       "0                  0  2022-05-09  first_touch         1.0    Justin Beiber\n",
       "1                  1  2022-03-21  first_touch         3.0        Joe Biden\n",
       "2                  2  2022-04-18  first_touch         2.0     Kylie Jenner\n",
       "3                  3  2022-02-07  first_touch         2.0     Kylie Jenner\n",
       "4                  4  2022-04-08  first_touch         1.0    Justin Beiber"
      ]
     },
     "execution_count": 472,
     "metadata": {},
     "output_type": "execute_result"
    }
   ],
   "source": [
    "data.head()"
   ]
  },
  {
   "cell_type": "code",
   "execution_count": 473,
   "id": "ede0e263",
   "metadata": {},
   "outputs": [
    {
     "name": "stdout",
     "output_type": "stream",
     "text": [
      "<class 'pandas.core.frame.DataFrame'>\n",
      "RangeIndex: 3183 entries, 0 to 3182\n",
      "Data columns (total 5 columns):\n",
      " #   Column             Non-Null Count  Dtype  \n",
      "---  ------             --------------  -----  \n",
      " 0   client_account_id  3183 non-null   int64  \n",
      " 1   date               3183 non-null   object \n",
      " 2   event_name         3183 non-null   object \n",
      " 3   manager_id         3183 non-null   float64\n",
      " 4   manager_nickname   3183 non-null   object \n",
      "dtypes: float64(1), int64(1), object(3)\n",
      "memory usage: 124.5+ KB\n"
     ]
    }
   ],
   "source": [
    "data.info()"
   ]
  },
  {
   "cell_type": "code",
   "execution_count": 474,
   "id": "c9dad686",
   "metadata": {},
   "outputs": [
    {
     "data": {
      "text/html": [
       "<div>\n",
       "<style scoped>\n",
       "    .dataframe tbody tr th:only-of-type {\n",
       "        vertical-align: middle;\n",
       "    }\n",
       "\n",
       "    .dataframe tbody tr th {\n",
       "        vertical-align: top;\n",
       "    }\n",
       "\n",
       "    .dataframe thead th {\n",
       "        text-align: right;\n",
       "    }\n",
       "</style>\n",
       "<table border=\"1\" class=\"dataframe\">\n",
       "  <thead>\n",
       "    <tr style=\"text-align: right;\">\n",
       "      <th></th>\n",
       "      <th>client_account_id</th>\n",
       "      <th>manager_id</th>\n",
       "    </tr>\n",
       "  </thead>\n",
       "  <tbody>\n",
       "    <tr>\n",
       "      <th>count</th>\n",
       "      <td>3183.000000</td>\n",
       "      <td>3183.000000</td>\n",
       "    </tr>\n",
       "    <tr>\n",
       "      <th>mean</th>\n",
       "      <td>1494.974552</td>\n",
       "      <td>2.101162</td>\n",
       "    </tr>\n",
       "    <tr>\n",
       "      <th>std</th>\n",
       "      <td>861.116990</td>\n",
       "      <td>0.820737</td>\n",
       "    </tr>\n",
       "    <tr>\n",
       "      <th>min</th>\n",
       "      <td>0.000000</td>\n",
       "      <td>1.000000</td>\n",
       "    </tr>\n",
       "    <tr>\n",
       "      <th>25%</th>\n",
       "      <td>753.500000</td>\n",
       "      <td>1.000000</td>\n",
       "    </tr>\n",
       "    <tr>\n",
       "      <th>50%</th>\n",
       "      <td>1492.000000</td>\n",
       "      <td>2.000000</td>\n",
       "    </tr>\n",
       "    <tr>\n",
       "      <th>75%</th>\n",
       "      <td>2245.500000</td>\n",
       "      <td>3.000000</td>\n",
       "    </tr>\n",
       "    <tr>\n",
       "      <th>max</th>\n",
       "      <td>2986.000000</td>\n",
       "      <td>3.000000</td>\n",
       "    </tr>\n",
       "  </tbody>\n",
       "</table>\n",
       "</div>"
      ],
      "text/plain": [
       "       client_account_id   manager_id\n",
       "count        3183.000000  3183.000000\n",
       "mean         1494.974552     2.101162\n",
       "std           861.116990     0.820737\n",
       "min             0.000000     1.000000\n",
       "25%           753.500000     1.000000\n",
       "50%          1492.000000     2.000000\n",
       "75%          2245.500000     3.000000\n",
       "max          2986.000000     3.000000"
      ]
     },
     "execution_count": 474,
     "metadata": {},
     "output_type": "execute_result"
    }
   ],
   "source": [
    "data.describe()"
   ]
  },
  {
   "cell_type": "code",
   "execution_count": 475,
   "id": "052e3d56",
   "metadata": {},
   "outputs": [
    {
     "data": {
      "text/plain": [
       "first_touch    2987\n",
       "deal            196\n",
       "Name: event_name, dtype: int64"
      ]
     },
     "execution_count": 475,
     "metadata": {},
     "output_type": "execute_result"
    }
   ],
   "source": [
    "data['event_name'].value_counts()"
   ]
  },
  {
   "cell_type": "code",
   "execution_count": 476,
   "id": "ad1603b9",
   "metadata": {},
   "outputs": [
    {
     "data": {
      "text/plain": [
       "Joe Biden        1249\n",
       "Kylie Jenner     1007\n",
       "Justin Beiber     927\n",
       "Name: manager_nickname, dtype: int64"
      ]
     },
     "execution_count": 476,
     "metadata": {},
     "output_type": "execute_result"
    }
   ],
   "source": [
    "data['manager_nickname'].value_counts()"
   ]
  },
  {
   "cell_type": "code",
   "execution_count": 477,
   "id": "c7810fae",
   "metadata": {},
   "outputs": [
    {
     "data": {
      "text/plain": [
       "1175    2\n",
       "1329    2\n",
       "2751    2\n",
       "2393    2\n",
       "2390    2\n",
       "       ..\n",
       "1027    1\n",
       "1028    1\n",
       "1029    1\n",
       "1030    1\n",
       "2986    1\n",
       "Name: client_account_id, Length: 2987, dtype: int64"
      ]
     },
     "execution_count": 477,
     "metadata": {},
     "output_type": "execute_result"
    }
   ],
   "source": [
    "data['client_account_id'].value_counts()"
   ]
  },
  {
   "cell_type": "code",
   "execution_count": 478,
   "id": "a271d29c",
   "metadata": {},
   "outputs": [
    {
     "data": {
      "text/plain": [
       "3.0    1249\n",
       "2.0    1007\n",
       "1.0     927\n",
       "Name: manager_id, dtype: int64"
      ]
     },
     "execution_count": 478,
     "metadata": {},
     "output_type": "execute_result"
    }
   ],
   "source": [
    "data['manager_id'].value_counts()"
   ]
  },
  {
   "cell_type": "code",
   "execution_count": 479,
   "id": "89efd118",
   "metadata": {},
   "outputs": [
    {
     "data": {
      "text/plain": [
       "2022-05-15    26\n",
       "2022-04-17    23\n",
       "2022-05-29    23\n",
       "2022-02-09    22\n",
       "2022-01-22    22\n",
       "              ..\n",
       "2021-06-17     1\n",
       "2021-07-12     1\n",
       "2021-05-19     1\n",
       "2021-07-14     1\n",
       "2021-05-17     1\n",
       "Name: date, Length: 379, dtype: int64"
      ]
     },
     "execution_count": 479,
     "metadata": {},
     "output_type": "execute_result"
    }
   ],
   "source": [
    "data['date'].value_counts()"
   ]
  },
  {
   "cell_type": "code",
   "execution_count": 480,
   "id": "fdb99b2c",
   "metadata": {},
   "outputs": [
    {
     "data": {
      "text/plain": [
       "0"
      ]
     },
     "execution_count": 480,
     "metadata": {},
     "output_type": "execute_result"
    }
   ],
   "source": [
    "data.duplicated().sum()"
   ]
  },
  {
   "cell_type": "markdown",
   "id": "5236cebc",
   "metadata": {},
   "source": [
    "## Data processing"
   ]
  },
  {
   "cell_type": "code",
   "execution_count": 481,
   "id": "36003b10",
   "metadata": {},
   "outputs": [],
   "source": [
    "data['date']  = pd.to_datetime(data['date'], format='%Y-%m-%d')\n",
    "data['manager_id'] = data['manager_id'].astype('int')"
   ]
  },
  {
   "cell_type": "markdown",
   "id": "901e8637",
   "metadata": {},
   "source": [
    "## First manager"
   ]
  },
  {
   "cell_type": "code",
   "execution_count": 482,
   "id": "c7523185",
   "metadata": {},
   "outputs": [],
   "source": [
    "data_mng_1 = data[data['manager_nickname']=='Joe Biden']"
   ]
  },
  {
   "cell_type": "code",
   "execution_count": 483,
   "id": "63600185",
   "metadata": {},
   "outputs": [],
   "source": [
    "data_mng_1 = data_mng_1.set_index('date')"
   ]
  },
  {
   "cell_type": "code",
   "execution_count": 484,
   "id": "1fb5bfb7",
   "metadata": {},
   "outputs": [
    {
     "data": {
      "text/plain": [
       "False"
      ]
     },
     "execution_count": 484,
     "metadata": {},
     "output_type": "execute_result"
    }
   ],
   "source": [
    "data_mng_1.index.is_monotonic"
   ]
  },
  {
   "cell_type": "code",
   "execution_count": 485,
   "id": "3d9a5d60",
   "metadata": {},
   "outputs": [
    {
     "data": {
      "text/plain": [
       "True"
      ]
     },
     "execution_count": 485,
     "metadata": {},
     "output_type": "execute_result"
    }
   ],
   "source": [
    "data_mng_1.sort_index(inplace=True)\n",
    "data_mng_1.index.is_monotonic"
   ]
  },
  {
   "cell_type": "code",
   "execution_count": 486,
   "id": "36e9e31d",
   "metadata": {},
   "outputs": [
    {
     "data": {
      "text/plain": [
       "3    1249\n",
       "Name: manager_id, dtype: int64"
      ]
     },
     "execution_count": 486,
     "metadata": {},
     "output_type": "execute_result"
    }
   ],
   "source": [
    "data_mng_1['manager_id'].value_counts()"
   ]
  },
  {
   "cell_type": "code",
   "execution_count": 487,
   "id": "f7ee77b9",
   "metadata": {},
   "outputs": [
    {
     "data": {
      "text/html": [
       "<div>\n",
       "<style scoped>\n",
       "    .dataframe tbody tr th:only-of-type {\n",
       "        vertical-align: middle;\n",
       "    }\n",
       "\n",
       "    .dataframe tbody tr th {\n",
       "        vertical-align: top;\n",
       "    }\n",
       "\n",
       "    .dataframe thead th {\n",
       "        text-align: right;\n",
       "    }\n",
       "</style>\n",
       "<table border=\"1\" class=\"dataframe\">\n",
       "  <thead>\n",
       "    <tr style=\"text-align: right;\">\n",
       "      <th></th>\n",
       "      <th>client_account_id</th>\n",
       "      <th>event_name</th>\n",
       "      <th>manager_id</th>\n",
       "      <th>manager_nickname</th>\n",
       "    </tr>\n",
       "    <tr>\n",
       "      <th>date</th>\n",
       "      <th></th>\n",
       "      <th></th>\n",
       "      <th></th>\n",
       "      <th></th>\n",
       "    </tr>\n",
       "  </thead>\n",
       "  <tbody>\n",
       "    <tr>\n",
       "      <th>2021-05-16</th>\n",
       "      <td>2560</td>\n",
       "      <td>first_touch</td>\n",
       "      <td>3</td>\n",
       "      <td>Joe Biden</td>\n",
       "    </tr>\n",
       "    <tr>\n",
       "      <th>2021-05-16</th>\n",
       "      <td>1557</td>\n",
       "      <td>first_touch</td>\n",
       "      <td>3</td>\n",
       "      <td>Joe Biden</td>\n",
       "    </tr>\n",
       "    <tr>\n",
       "      <th>2021-05-16</th>\n",
       "      <td>1567</td>\n",
       "      <td>first_touch</td>\n",
       "      <td>3</td>\n",
       "      <td>Joe Biden</td>\n",
       "    </tr>\n",
       "    <tr>\n",
       "      <th>2021-05-16</th>\n",
       "      <td>659</td>\n",
       "      <td>first_touch</td>\n",
       "      <td>3</td>\n",
       "      <td>Joe Biden</td>\n",
       "    </tr>\n",
       "    <tr>\n",
       "      <th>2021-05-17</th>\n",
       "      <td>2982</td>\n",
       "      <td>first_touch</td>\n",
       "      <td>3</td>\n",
       "      <td>Joe Biden</td>\n",
       "    </tr>\n",
       "  </tbody>\n",
       "</table>\n",
       "</div>"
      ],
      "text/plain": [
       "            client_account_id   event_name  manager_id manager_nickname\n",
       "date                                                                   \n",
       "2021-05-16               2560  first_touch           3        Joe Biden\n",
       "2021-05-16               1557  first_touch           3        Joe Biden\n",
       "2021-05-16               1567  first_touch           3        Joe Biden\n",
       "2021-05-16                659  first_touch           3        Joe Biden\n",
       "2021-05-17               2982  first_touch           3        Joe Biden"
      ]
     },
     "execution_count": 487,
     "metadata": {},
     "output_type": "execute_result"
    }
   ],
   "source": [
    "data_mng_1.head()"
   ]
  },
  {
   "cell_type": "code",
   "execution_count": 488,
   "id": "a34ca5e9",
   "metadata": {},
   "outputs": [],
   "source": [
    "# mng_1_deal = data_mng_1[data_mng_1['event_name']=='deal']\n",
    "# mng_1_touch = data_mng_1[data_mng_1['event_name']=='first_touch']\n",
    "mng_1_deal_id = list(data_mng_1[data_mng_1['event_name']=='deal']['client_account_id'])\n",
    "mng_1_touch_id = list(data_mng_1[data_mng_1['event_name']=='first_touch']['client_account_id'])"
   ]
  },
  {
   "cell_type": "code",
   "execution_count": 489,
   "id": "7e0ffa2d",
   "metadata": {},
   "outputs": [
    {
     "data": {
      "text/plain": [
       "0"
      ]
     },
     "execution_count": 489,
     "metadata": {},
     "output_type": "execute_result"
    }
   ],
   "source": [
    "len(mng_1_deal_id)+len(mng_1_touch_id)-len(data_mng_1)"
   ]
  },
  {
   "cell_type": "code",
   "execution_count": 490,
   "id": "8e8b6fe2",
   "metadata": {},
   "outputs": [],
   "source": [
    "mng_1_touch_deal_id =[]\n",
    "for i in mng_1_deal_id:\n",
    "    if i in mng_1_touch_id:\n",
    "        mng_1_touch_deal_id.append(i)"
   ]
  },
  {
   "cell_type": "code",
   "execution_count": 491,
   "id": "7112b1e9",
   "metadata": {
    "scrolled": false
   },
   "outputs": [
    {
     "data": {
      "text/html": [
       "<div>\n",
       "<style scoped>\n",
       "    .dataframe tbody tr th:only-of-type {\n",
       "        vertical-align: middle;\n",
       "    }\n",
       "\n",
       "    .dataframe tbody tr th {\n",
       "        vertical-align: top;\n",
       "    }\n",
       "\n",
       "    .dataframe thead th {\n",
       "        text-align: right;\n",
       "    }\n",
       "</style>\n",
       "<table border=\"1\" class=\"dataframe\">\n",
       "  <thead>\n",
       "    <tr style=\"text-align: right;\">\n",
       "      <th></th>\n",
       "      <th>client_account_id</th>\n",
       "      <th>date</th>\n",
       "      <th>event_name</th>\n",
       "      <th>manager_id</th>\n",
       "      <th>manager_nickname</th>\n",
       "    </tr>\n",
       "  </thead>\n",
       "  <tbody>\n",
       "    <tr>\n",
       "      <th>186</th>\n",
       "      <td>176</td>\n",
       "      <td>2021-08-31</td>\n",
       "      <td>first_touch</td>\n",
       "      <td>3</td>\n",
       "      <td>Joe Biden</td>\n",
       "    </tr>\n",
       "    <tr>\n",
       "      <th>187</th>\n",
       "      <td>176</td>\n",
       "      <td>2021-09-04</td>\n",
       "      <td>deal</td>\n",
       "      <td>3</td>\n",
       "      <td>Joe Biden</td>\n",
       "    </tr>\n",
       "    <tr>\n",
       "      <th>274</th>\n",
       "      <td>259</td>\n",
       "      <td>2022-05-15</td>\n",
       "      <td>first_touch</td>\n",
       "      <td>3</td>\n",
       "      <td>Joe Biden</td>\n",
       "    </tr>\n",
       "    <tr>\n",
       "      <th>275</th>\n",
       "      <td>259</td>\n",
       "      <td>2022-03-09</td>\n",
       "      <td>deal</td>\n",
       "      <td>3</td>\n",
       "      <td>Joe Biden</td>\n",
       "    </tr>\n",
       "    <tr>\n",
       "      <th>350</th>\n",
       "      <td>330</td>\n",
       "      <td>2021-07-11</td>\n",
       "      <td>first_touch</td>\n",
       "      <td>3</td>\n",
       "      <td>Joe Biden</td>\n",
       "    </tr>\n",
       "    <tr>\n",
       "      <th>...</th>\n",
       "      <td>...</td>\n",
       "      <td>...</td>\n",
       "      <td>...</td>\n",
       "      <td>...</td>\n",
       "      <td>...</td>\n",
       "    </tr>\n",
       "    <tr>\n",
       "      <th>2924</th>\n",
       "      <td>2738</td>\n",
       "      <td>2022-04-18</td>\n",
       "      <td>deal</td>\n",
       "      <td>3</td>\n",
       "      <td>Joe Biden</td>\n",
       "    </tr>\n",
       "    <tr>\n",
       "      <th>2937</th>\n",
       "      <td>2751</td>\n",
       "      <td>2021-12-29</td>\n",
       "      <td>first_touch</td>\n",
       "      <td>3</td>\n",
       "      <td>Joe Biden</td>\n",
       "    </tr>\n",
       "    <tr>\n",
       "      <th>2938</th>\n",
       "      <td>2751</td>\n",
       "      <td>2022-04-04</td>\n",
       "      <td>deal</td>\n",
       "      <td>3</td>\n",
       "      <td>Joe Biden</td>\n",
       "    </tr>\n",
       "    <tr>\n",
       "      <th>3041</th>\n",
       "      <td>2849</td>\n",
       "      <td>2022-04-02</td>\n",
       "      <td>first_touch</td>\n",
       "      <td>3</td>\n",
       "      <td>Joe Biden</td>\n",
       "    </tr>\n",
       "    <tr>\n",
       "      <th>3042</th>\n",
       "      <td>2849</td>\n",
       "      <td>2022-01-03</td>\n",
       "      <td>deal</td>\n",
       "      <td>3</td>\n",
       "      <td>Joe Biden</td>\n",
       "    </tr>\n",
       "  </tbody>\n",
       "</table>\n",
       "<p>68 rows × 5 columns</p>\n",
       "</div>"
      ],
      "text/plain": [
       "      client_account_id       date   event_name  manager_id manager_nickname\n",
       "186                 176 2021-08-31  first_touch           3        Joe Biden\n",
       "187                 176 2021-09-04         deal           3        Joe Biden\n",
       "274                 259 2022-05-15  first_touch           3        Joe Biden\n",
       "275                 259 2022-03-09         deal           3        Joe Biden\n",
       "350                 330 2021-07-11  first_touch           3        Joe Biden\n",
       "...                 ...        ...          ...         ...              ...\n",
       "2924               2738 2022-04-18         deal           3        Joe Biden\n",
       "2937               2751 2021-12-29  first_touch           3        Joe Biden\n",
       "2938               2751 2022-04-04         deal           3        Joe Biden\n",
       "3041               2849 2022-04-02  first_touch           3        Joe Biden\n",
       "3042               2849 2022-01-03         deal           3        Joe Biden\n",
       "\n",
       "[68 rows x 5 columns]"
      ]
     },
     "execution_count": 491,
     "metadata": {},
     "output_type": "execute_result"
    }
   ],
   "source": [
    "import numpy as np\n",
    "data[np.isin(data, mng_1_touch_deal_id).any(axis=1)]"
   ]
  },
  {
   "cell_type": "code",
   "execution_count": 492,
   "id": "b0b9a389",
   "metadata": {},
   "outputs": [
    {
     "data": {
      "text/plain": [
       "57"
      ]
     },
     "execution_count": 492,
     "metadata": {},
     "output_type": "execute_result"
    }
   ],
   "source": [
    "len(mng_1_deal)-len(mng_1_touch_deal_id)"
   ]
  },
  {
   "cell_type": "code",
   "execution_count": 493,
   "id": "372d1fcf",
   "metadata": {},
   "outputs": [
    {
     "data": {
      "text/plain": [
       "34"
      ]
     },
     "execution_count": 493,
     "metadata": {},
     "output_type": "execute_result"
    }
   ],
   "source": [
    "len(mng_1_touch_deal_id) "
   ]
  },
  {
   "cell_type": "code",
   "execution_count": 494,
   "id": "19fc440f",
   "metadata": {},
   "outputs": [
    {
     "data": {
      "text/plain": [
       "1249"
      ]
     },
     "execution_count": 494,
     "metadata": {},
     "output_type": "execute_result"
    }
   ],
   "source": [
    "len(data_mng_1) "
   ]
  },
  {
   "cell_type": "code",
   "execution_count": 495,
   "id": "fce7ed81",
   "metadata": {},
   "outputs": [
    {
     "name": "stdout",
     "output_type": "stream",
     "text": [
      "Conversion of the first manager 2.722%.\n"
     ]
    }
   ],
   "source": [
    "mng_1_conversion = round((len(mng_1_touch_deal_id)/len(data_mng_1)*100), 3)\n",
    "print(\"Conversion of the first manager\", str(mng_1_conversion)+'%.')"
   ]
  },
  {
   "cell_type": "code",
   "execution_count": 496,
   "id": "076efcf7",
   "metadata": {},
   "outputs": [],
   "source": [
    "def conversion(data):\n",
    "    data = data.set_index('date')\n",
    "    data.sort_index(inplace=True)\n",
    "    mng_1_deal_id = list(data[data['event_name']=='deal']['client_account_id'])\n",
    "    mng_1_touch_id = list(data[data['event_name']=='first_touch']['client_account_id'])\n",
    "    if (len(mng_1_deal_id)+len(mng_1_touch_id)-len(data))!=0:\n",
    "        return print(\"Error, check the data\")\n",
    "    mng_1_touch_deal_id =[]\n",
    "    for i in mng_1_deal_id:\n",
    "        if i in mng_1_touch_id:\n",
    "            mng_1_touch_deal_id.append(i)\n",
    "    return round((len(mng_1_touch_deal_id)/len(data)*100), 3)"
   ]
  },
  {
   "cell_type": "code",
   "execution_count": 497,
   "id": "1260b4a7",
   "metadata": {},
   "outputs": [
    {
     "data": {
      "text/plain": [
       "2.722"
      ]
     },
     "execution_count": 497,
     "metadata": {},
     "output_type": "execute_result"
    }
   ],
   "source": [
    "data_mng_1 = data[data['manager_nickname']=='Joe Biden']\n",
    "conversion(data_mng_1)"
   ]
  },
  {
   "cell_type": "markdown",
   "id": "65605100",
   "metadata": {},
   "source": [
    "## Second manager"
   ]
  },
  {
   "cell_type": "code",
   "execution_count": 498,
   "id": "dca0698f",
   "metadata": {},
   "outputs": [],
   "source": [
    "data_mng_2 = data[data['manager_nickname']=='Kylie Jenner']"
   ]
  },
  {
   "cell_type": "code",
   "execution_count": 499,
   "id": "12b7ace0",
   "metadata": {},
   "outputs": [
    {
     "data": {
      "text/plain": [
       "1.986"
      ]
     },
     "execution_count": 499,
     "metadata": {},
     "output_type": "execute_result"
    }
   ],
   "source": [
    "conversion(data_mng_2)"
   ]
  },
  {
   "cell_type": "markdown",
   "id": "0e97d71d",
   "metadata": {},
   "source": [
    "## Third manager"
   ]
  },
  {
   "cell_type": "code",
   "execution_count": 500,
   "id": "6ec05e96",
   "metadata": {},
   "outputs": [
    {
     "data": {
      "text/plain": [
       "1.187"
      ]
     },
     "execution_count": 500,
     "metadata": {},
     "output_type": "execute_result"
    }
   ],
   "source": [
    "data_mng_3 = data[data['manager_nickname']=='Justin Beiber']\n",
    "conversion(data_mng_3)"
   ]
  },
  {
   "cell_type": "code",
   "execution_count": 501,
   "id": "18b3008e",
   "metadata": {},
   "outputs": [
    {
     "data": {
      "text/html": [
       "<div>\n",
       "<style scoped>\n",
       "    .dataframe tbody tr th:only-of-type {\n",
       "        vertical-align: middle;\n",
       "    }\n",
       "\n",
       "    .dataframe tbody tr th {\n",
       "        vertical-align: top;\n",
       "    }\n",
       "\n",
       "    .dataframe thead th {\n",
       "        text-align: right;\n",
       "    }\n",
       "</style>\n",
       "<table border=\"1\" class=\"dataframe\">\n",
       "  <thead>\n",
       "    <tr style=\"text-align: right;\">\n",
       "      <th></th>\n",
       "      <th>manager_nickname</th>\n",
       "      <th>conversion, %</th>\n",
       "    </tr>\n",
       "  </thead>\n",
       "  <tbody>\n",
       "    <tr>\n",
       "      <th>0</th>\n",
       "      <td>Joe Biden</td>\n",
       "      <td>2.722</td>\n",
       "    </tr>\n",
       "    <tr>\n",
       "      <th>1</th>\n",
       "      <td>Kylie Jenner</td>\n",
       "      <td>1.986</td>\n",
       "    </tr>\n",
       "    <tr>\n",
       "      <th>2</th>\n",
       "      <td>Justin Beiber</td>\n",
       "      <td>1.187</td>\n",
       "    </tr>\n",
       "  </tbody>\n",
       "</table>\n",
       "</div>"
      ],
      "text/plain": [
       "  manager_nickname  conversion, %\n",
       "0        Joe Biden          2.722\n",
       "1     Kylie Jenner          1.986\n",
       "2    Justin Beiber          1.187"
      ]
     },
     "execution_count": 501,
     "metadata": {},
     "output_type": "execute_result"
    }
   ],
   "source": [
    "pd.DataFrame(data=[['Joe Biden', conversion(data_mng_1)],\n",
    "                  ['Kylie Jenner', conversion(data_mng_2)],\n",
    "                  ['Justin Beiber', conversion(data_mng_3)]], columns=['manager_nickname', 'conversion, %'],)"
   ]
  },
  {
   "cell_type": "code",
   "execution_count": 502,
   "id": "0175b5c8",
   "metadata": {},
   "outputs": [
    {
     "data": {
      "text/plain": [
       "3"
      ]
     },
     "execution_count": 502,
     "metadata": {},
     "output_type": "execute_result"
    }
   ],
   "source": [
    "round(conversion(data_mng_1))"
   ]
  },
  {
   "cell_type": "code",
   "execution_count": null,
   "id": "374deb7b",
   "metadata": {},
   "outputs": [],
   "source": []
  }
 ],
 "metadata": {
  "kernelspec": {
   "display_name": "Python 3 (ipykernel)",
   "language": "python",
   "name": "python3"
  },
  "language_info": {
   "codemirror_mode": {
    "name": "ipython",
    "version": 3
   },
   "file_extension": ".py",
   "mimetype": "text/x-python",
   "name": "python",
   "nbconvert_exporter": "python",
   "pygments_lexer": "ipython3",
   "version": "3.9.12"
  },
  "toc": {
   "base_numbering": 1,
   "nav_menu": {},
   "number_sections": true,
   "sideBar": true,
   "skip_h1_title": false,
   "title_cell": "Table of Contents",
   "title_sidebar": "Contents",
   "toc_cell": false,
   "toc_position": {},
   "toc_section_display": true,
   "toc_window_display": false
  }
 },
 "nbformat": 4,
 "nbformat_minor": 5
}
