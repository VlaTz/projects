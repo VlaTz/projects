{
 "cells": [
  {
   "cell_type": "code",
   "execution_count": 124,
   "id": "4aa2816e",
   "metadata": {},
   "outputs": [],
   "source": [
    "import pandas as pd \n",
    " \n",
    "from collections import Counter"
   ]
  },
  {
   "cell_type": "code",
   "execution_count": 105,
   "id": "5df49c1c",
   "metadata": {},
   "outputs": [],
   "source": [
    "df = pd.DataFrame(columns=['id'])"
   ]
  },
  {
   "cell_type": "markdown",
   "id": "92bb1781",
   "metadata": {},
   "source": [
    "Если id начинается с 0, значит тип данных str"
   ]
  },
  {
   "cell_type": "code",
   "execution_count": 106,
   "id": "e8398871",
   "metadata": {},
   "outputs": [
    {
     "data": {
      "text/html": [
       "<div>\n",
       "<style scoped>\n",
       "    .dataframe tbody tr th:only-of-type {\n",
       "        vertical-align: middle;\n",
       "    }\n",
       "\n",
       "    .dataframe tbody tr th {\n",
       "        vertical-align: top;\n",
       "    }\n",
       "\n",
       "    .dataframe thead th {\n",
       "        text-align: right;\n",
       "    }\n",
       "</style>\n",
       "<table border=\"1\" class=\"dataframe\">\n",
       "  <thead>\n",
       "    <tr style=\"text-align: right;\">\n",
       "      <th></th>\n",
       "      <th>id</th>\n",
       "    </tr>\n",
       "  </thead>\n",
       "  <tbody>\n",
       "    <tr>\n",
       "      <th>0</th>\n",
       "      <td>7412567</td>\n",
       "    </tr>\n",
       "    <tr>\n",
       "      <th>1</th>\n",
       "      <td>12345</td>\n",
       "    </tr>\n",
       "    <tr>\n",
       "      <th>2</th>\n",
       "      <td>84597</td>\n",
       "    </tr>\n",
       "    <tr>\n",
       "      <th>3</th>\n",
       "      <td>7652147</td>\n",
       "    </tr>\n",
       "    <tr>\n",
       "      <th>4</th>\n",
       "      <td>012345</td>\n",
       "    </tr>\n",
       "    <tr>\n",
       "      <th>5</th>\n",
       "      <td>084597</td>\n",
       "    </tr>\n",
       "    <tr>\n",
       "      <th>6</th>\n",
       "      <td>048597</td>\n",
       "    </tr>\n",
       "  </tbody>\n",
       "</table>\n",
       "</div>"
      ],
      "text/plain": [
       "        id\n",
       "0  7412567\n",
       "1    12345\n",
       "2    84597\n",
       "3  7652147\n",
       "4   012345\n",
       "5   084597\n",
       "6   048597"
      ]
     },
     "execution_count": 106,
     "metadata": {},
     "output_type": "execute_result"
    }
   ],
   "source": [
    "df['id'] = ['7412567', '12345', '84597', '7652147', '012345', '084597', '048597',]\n",
    "df "
   ]
  },
  {
   "cell_type": "markdown",
   "id": "73fb18b5",
   "metadata": {},
   "source": [
    "## Функция "
   ]
  },
  {
   "cell_type": "markdown",
   "id": "b7522e61",
   "metadata": {},
   "source": [
    "Можено сделать датасет и посчитать количество одинковых элементов. Способ удобен тем, что можно будет строить грфики, дополнительно обрабатывать данные и так далее. Иначе говоря, будут табличные данные, с которыми можно работать. "
   ]
  },
  {
   "cell_type": "code",
   "execution_count": 162,
   "id": "e802d925",
   "metadata": {},
   "outputs": [],
   "source": [
    "def counter_1(n_customers):\n",
    "    a = []\n",
    "    for i in range(n_customers):\n",
    "        if df.loc[i, 'id'][0]=='0':\n",
    "            a.append(sum(map(int, list(df.loc[i, 'id']))))\n",
    "    data = pd.DataFrame(data=a)\n",
    "    return data # data.value_counts()"
   ]
  },
  {
   "cell_type": "code",
   "execution_count": 163,
   "id": "421d64df",
   "metadata": {},
   "outputs": [
    {
     "data": {
      "text/html": [
       "<div>\n",
       "<style scoped>\n",
       "    .dataframe tbody tr th:only-of-type {\n",
       "        vertical-align: middle;\n",
       "    }\n",
       "\n",
       "    .dataframe tbody tr th {\n",
       "        vertical-align: top;\n",
       "    }\n",
       "\n",
       "    .dataframe thead th {\n",
       "        text-align: right;\n",
       "    }\n",
       "</style>\n",
       "<table border=\"1\" class=\"dataframe\">\n",
       "  <thead>\n",
       "    <tr style=\"text-align: right;\">\n",
       "      <th></th>\n",
       "      <th>0</th>\n",
       "    </tr>\n",
       "  </thead>\n",
       "  <tbody>\n",
       "    <tr>\n",
       "      <th>0</th>\n",
       "      <td>15</td>\n",
       "    </tr>\n",
       "    <tr>\n",
       "      <th>1</th>\n",
       "      <td>33</td>\n",
       "    </tr>\n",
       "    <tr>\n",
       "      <th>2</th>\n",
       "      <td>33</td>\n",
       "    </tr>\n",
       "  </tbody>\n",
       "</table>\n",
       "</div>"
      ],
      "text/plain": [
       "    0\n",
       "0  15\n",
       "1  33\n",
       "2  33"
      ]
     },
     "metadata": {},
     "output_type": "display_data"
    },
    {
     "data": {
      "text/plain": [
       "33    2\n",
       "15    1\n",
       "dtype: int64"
      ]
     },
     "execution_count": 163,
     "metadata": {},
     "output_type": "execute_result"
    }
   ],
   "source": [
    "how_many_cliets = counter_1(7)\n",
    "display(how_many_cliets)\n",
    "how_many_cliets.value_counts()"
   ]
  },
  {
   "cell_type": "markdown",
   "id": "da7246a7",
   "metadata": {},
   "source": [
    "Можно сделать словарь, где ключом будет номер группы, а значением - количество клиентов в этой группе"
   ]
  },
  {
   "cell_type": "code",
   "execution_count": 141,
   "id": "444c5ded",
   "metadata": {},
   "outputs": [],
   "source": [
    "def counter_1(n_customers):\n",
    "    a = []\n",
    "    for i in range(n_customers):\n",
    "        if df.loc[i, 'id'][0]=='0':\n",
    "            a.append(sum(map(int, list(df.loc[i, 'id']))))\n",
    "    return Counter(a)"
   ]
  },
  {
   "cell_type": "code",
   "execution_count": 142,
   "id": "d1ebb2db",
   "metadata": {},
   "outputs": [],
   "source": [
    "how_many_cliets = counter_1(7)"
   ]
  },
  {
   "cell_type": "code",
   "execution_count": 143,
   "id": "6d801ea4",
   "metadata": {},
   "outputs": [
    {
     "data": {
      "text/plain": [
       "Counter({15: 1, 33: 2})"
      ]
     },
     "execution_count": 143,
     "metadata": {},
     "output_type": "execute_result"
    }
   ],
   "source": [
    "how_many_cliets"
   ]
  },
  {
   "cell_type": "markdown",
   "id": "6ddd2309",
   "metadata": {},
   "source": [
    "Здесь можно вызват номер группы, и узнать, сколько в ней клиентов"
   ]
  },
  {
   "cell_type": "code",
   "execution_count": 144,
   "id": "811b0c1f",
   "metadata": {},
   "outputs": [
    {
     "data": {
      "text/plain": [
       "1"
      ]
     },
     "execution_count": 144,
     "metadata": {},
     "output_type": "execute_result"
    }
   ],
   "source": [
    "how_many_cliets[15]"
   ]
  },
  {
   "cell_type": "markdown",
   "id": "834eec83",
   "metadata": {},
   "source": [
    "## Функция"
   ]
  },
  {
   "cell_type": "markdown",
   "id": "dd8f0e93",
   "metadata": {},
   "source": [
    "Методы можно выбрать как в первой функции"
   ]
  },
  {
   "cell_type": "code",
   "execution_count": 167,
   "id": "315a3446",
   "metadata": {},
   "outputs": [],
   "source": [
    "def counter_2(n_customers, n_first_id):\n",
    "    a = []\n",
    "    for i in range(n_first_id, n_customers+n_first_id):\n",
    "        a.append(sum(map(int, list(df.loc[i, 'id']))))\n",
    "    data = pd.DataFrame(data=a)\n",
    "    return data # data.value_counts()"
   ]
  },
  {
   "cell_type": "code",
   "execution_count": 168,
   "id": "1370debc",
   "metadata": {},
   "outputs": [
    {
     "data": {
      "text/html": [
       "<div>\n",
       "<style scoped>\n",
       "    .dataframe tbody tr th:only-of-type {\n",
       "        vertical-align: middle;\n",
       "    }\n",
       "\n",
       "    .dataframe tbody tr th {\n",
       "        vertical-align: top;\n",
       "    }\n",
       "\n",
       "    .dataframe thead th {\n",
       "        text-align: right;\n",
       "    }\n",
       "</style>\n",
       "<table border=\"1\" class=\"dataframe\">\n",
       "  <thead>\n",
       "    <tr style=\"text-align: right;\">\n",
       "      <th></th>\n",
       "      <th>0</th>\n",
       "    </tr>\n",
       "  </thead>\n",
       "  <tbody>\n",
       "    <tr>\n",
       "      <th>0</th>\n",
       "      <td>33</td>\n",
       "    </tr>\n",
       "    <tr>\n",
       "      <th>1</th>\n",
       "      <td>32</td>\n",
       "    </tr>\n",
       "    <tr>\n",
       "      <th>2</th>\n",
       "      <td>15</td>\n",
       "    </tr>\n",
       "    <tr>\n",
       "      <th>3</th>\n",
       "      <td>33</td>\n",
       "    </tr>\n",
       "    <tr>\n",
       "      <th>4</th>\n",
       "      <td>33</td>\n",
       "    </tr>\n",
       "  </tbody>\n",
       "</table>\n",
       "</div>"
      ],
      "text/plain": [
       "    0\n",
       "0  33\n",
       "1  32\n",
       "2  15\n",
       "3  33\n",
       "4  33"
      ]
     },
     "metadata": {},
     "output_type": "display_data"
    },
    {
     "data": {
      "text/plain": [
       "33    3\n",
       "15    1\n",
       "32    1\n",
       "dtype: int64"
      ]
     },
     "execution_count": 168,
     "metadata": {},
     "output_type": "execute_result"
    }
   ],
   "source": [
    "how_many_cliets = counter_2(5, 2)\n",
    "display(how_many_cliets)\n",
    "how_many_cliets.value_counts()"
   ]
  },
  {
   "cell_type": "code",
   "execution_count": 174,
   "id": "06881cf9",
   "metadata": {},
   "outputs": [],
   "source": [
    "def counter_2(n_customers, n_first_id):\n",
    "    a = []\n",
    "    for i in range(n_first_id, n_customers++n_first_id):\n",
    "        a.append(sum(map(int, list(df.loc[i, 'id']))))\n",
    "    return Counter(a)"
   ]
  },
  {
   "cell_type": "code",
   "execution_count": 175,
   "id": "6734c6f7",
   "metadata": {},
   "outputs": [
    {
     "data": {
      "text/plain": [
       "Counter({33: 3, 32: 1, 15: 1})"
      ]
     },
     "execution_count": 175,
     "metadata": {},
     "output_type": "execute_result"
    }
   ],
   "source": [
    "how_many_cliets = counter_2(5, 2)\n",
    "how_many_cliets"
   ]
  },
  {
   "cell_type": "code",
   "execution_count": 176,
   "id": "c069e7be",
   "metadata": {},
   "outputs": [
    {
     "data": {
      "text/plain": [
       "3"
      ]
     },
     "execution_count": 176,
     "metadata": {},
     "output_type": "execute_result"
    }
   ],
   "source": [
    "how_many_cliets[33]"
   ]
  }
 ],
 "metadata": {
  "kernelspec": {
   "display_name": "Python 3 (ipykernel)",
   "language": "python",
   "name": "python3"
  },
  "language_info": {
   "codemirror_mode": {
    "name": "ipython",
    "version": 3
   },
   "file_extension": ".py",
   "mimetype": "text/x-python",
   "name": "python",
   "nbconvert_exporter": "python",
   "pygments_lexer": "ipython3",
   "version": "3.9.12"
  },
  "toc": {
   "base_numbering": 1,
   "nav_menu": {},
   "number_sections": true,
   "sideBar": true,
   "skip_h1_title": false,
   "title_cell": "Table of Contents",
   "title_sidebar": "Contents",
   "toc_cell": false,
   "toc_position": {},
   "toc_section_display": true,
   "toc_window_display": false
  }
 },
 "nbformat": 4,
 "nbformat_minor": 5
}
